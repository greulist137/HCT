{
  "nbformat": 4,
  "nbformat_minor": 0,
  "metadata": {
    "colab": {
      "provenance": [],
      "authorship_tag": "ABX9TyMYO/hUXViF4U/ZfC6jDS/+",
      "include_colab_link": true
    },
    "kernelspec": {
      "name": "python3",
      "display_name": "Python 3"
    },
    "language_info": {
      "name": "python"
    }
  },
  "cells": [
    {
      "cell_type": "markdown",
      "metadata": {
        "id": "view-in-github",
        "colab_type": "text"
      },
      "source": [
        "<a href=\"https://colab.research.google.com/github/greulist137/HCT/blob/main/Kaggle_HCT.ipynb\" target=\"_parent\"><img src=\"https://colab.research.google.com/assets/colab-badge.svg\" alt=\"Open In Colab\"/></a>"
      ]
    },
    {
      "cell_type": "code",
      "execution_count": 22,
      "metadata": {
        "id": "JLsxKnHX9GrM"
      },
      "outputs": [],
      "source": [
        "import pandas as pd\n",
        "import seaborn as sns\n",
        "import matplotlib.pyplot as plt\n",
        "from sklearn.preprocessing import OneHotEncoder"
      ]
    },
    {
      "cell_type": "code",
      "source": [
        "# Read CSV\n",
        "df = pd.read_csv('train.csv')\n",
        "\n",
        "# Get missing value count for each column\n",
        "missing_values = df.isnull().sum()\n",
        "\n",
        "# Get percentage of missing values\n",
        "missing_percentage = (df.isnull().sum() / len(df)) * 100\n",
        "\n",
        "# Print results\n",
        "print(missing_values)"
      ],
      "metadata": {
        "colab": {
          "base_uri": "https://localhost:8080/"
        },
        "id": "I6co8AqC9Skq",
        "outputId": "0e5c5c65-46fe-47bd-8a03-d826ed66f215"
      },
      "execution_count": null,
      "outputs": [
        {
          "output_type": "stream",
          "name": "stdout",
          "text": [
            "ID                            0\n",
            "dri_score                   154\n",
            "psych_disturb              2062\n",
            "cyto_score                 8068\n",
            "diabetes                   2119\n",
            "hla_match_c_high           4620\n",
            "hla_high_res_8             5829\n",
            "tbi_status                    0\n",
            "arrhythmia                 2202\n",
            "hla_low_res_6              3270\n",
            "graft_type                    0\n",
            "vent_hist                   259\n",
            "renal_issue                1915\n",
            "pulm_severe                2135\n",
            "prim_disease_hct              0\n",
            "hla_high_res_6             5284\n",
            "cmv_status                  634\n",
            "hla_high_res_10            7163\n",
            "hla_match_dqb1_high        5199\n",
            "tce_imm_match             11133\n",
            "hla_nmdp_6                 4197\n",
            "hla_match_c_low            2800\n",
            "rituximab                  2148\n",
            "hla_match_drb1_low         2643\n",
            "hla_match_dqb1_low         4194\n",
            "prod_type                     0\n",
            "cyto_score_detail         11923\n",
            "conditioning_intensity     4789\n",
            "ethnicity                   587\n",
            "year_hct                      0\n",
            "obesity                    1760\n",
            "mrd_hct                   16597\n",
            "in_vivo_tcd                 225\n",
            "tce_match                 18996\n",
            "hla_match_a_high           4301\n",
            "hepatic_severe             1871\n",
            "donor_age                  1808\n",
            "prior_tumor                1678\n",
            "hla_match_b_low            2565\n",
            "peptic_ulcer               2419\n",
            "age_at_hct                    0\n",
            "hla_match_a_low            2390\n",
            "gvhd_proph                  225\n",
            "rheum_issue                2183\n",
            "sex_match                   261\n",
            "hla_match_b_high           4088\n",
            "race_group                    0\n",
            "comorbidity_score           477\n",
            "karnofsky_score             870\n",
            "hepatic_mild               1917\n",
            "tce_div_match             11396\n",
            "donor_related               158\n",
            "melphalan_dose             1405\n",
            "hla_low_res_8              3653\n",
            "cardiac                    2542\n",
            "hla_match_drb1_high        3352\n",
            "pulm_moderate              2047\n",
            "hla_low_res_10             5064\n",
            "efs                           0\n",
            "efs_time                      0\n",
            "dtype: int64\n"
          ]
        }
      ]
    },
    {
      "cell_type": "code",
      "source": [
        "# Fill different values for different columns\n",
        "df = df.fillna({\n",
        "    'dri_score': 'unknown',\n",
        "    'psych_disturb': 'unknown',\n",
        "    'cyto_score': 'unknown',\n",
        "    'diabetes': 'unknown',\n",
        "    'hla_match_c_high': -1,\n",
        "    'hla_high_res_8': -1,\n",
        "    'arrhythmia': 'unknown',\n",
        "    'hla_low_res_6': -1,\n",
        "    'vent_hist': 'unknown',\n",
        "    'renal_issue': 'unknown',\n",
        "    'pulm_severe': 'unknown',\n",
        "    'hla_high_res_6': -1,\n",
        "    'cmv_status': 'unknown',\n",
        "    'hla_high_res_10': -1,\n",
        "    'hla_match_dqb1_high': -1,\n",
        "    'tce_imm_match': 'unknown',\n",
        "    'hla_nmdp_6': -1,\n",
        "    'hla_match_c_low': -1,\n",
        "    'rituximab': 'unknown',\n",
        "    'hla_match_drb1_low': -1,\n",
        "    'hla_match_dqb1_low': -1,\n",
        "    'cyto_score_detail': 'unknown',\n",
        "    'conditioning_intensity': 'unknown',\n",
        "    'ethnicity': 'unknown',\n",
        "    'obesity': 'unknown',\n",
        "    'mrd_hct': 'unknown',\n",
        "    'in_vivo_tcd': 'unknown',\n",
        "    'tce_match': 'unknown',\n",
        "    'hla_match_a_high': -1,\n",
        "    'hepatic_severe': 'unknown',\n",
        "    'prior_tumor': 'unknown',\n",
        "    'hla_match_b_low': -1,\n",
        "    'peptic_ulcer': 'unknown',\n",
        "    'hla_match_a_low': -1,\n",
        "    'gvhd_proph': 'unknown',\n",
        "    'rheum_issue': 'unknown',\n",
        "    'sex_match': 'unknown',\n",
        "    'hla_match_b_high': -1,\n",
        "    'comorbidity_score': -1,\n",
        "    'karnofsky_score': -1,\n",
        "    'hepatic_mild': 'unknown',\n",
        "    'tce_div_match': 'unknown',\n",
        "    'donor_related': 'unknown',\n",
        "    'melphalan_dose': 'unknown',\n",
        "    'hla_low_res_8': -1,\n",
        "    'cardiac': 'unknown',\n",
        "    'hla_match_drb1_high': -1,\n",
        "    'pulm_moderate': 'unknown',\n",
        "    'hla_low_res_10': -1,\n",
        "})\n",
        "\n"
      ],
      "metadata": {
        "id": "lVKsTCMr91WA"
      },
      "execution_count": null,
      "outputs": []
    },
    {
      "cell_type": "code",
      "source": [
        "\n",
        "\n",
        " df['donor_age'] = df['donor_age'].fillna(df['donor_age'].median())"
      ],
      "metadata": {
        "id": "_owNAxwzCc8V"
      },
      "execution_count": null,
      "outputs": []
    },
    {
      "cell_type": "code",
      "source": [
        "# Get missing value count for each column\n",
        "missing_values = df.isnull().sum()\n",
        "\n",
        "# Print results\n",
        "print(missing_values)"
      ],
      "metadata": {
        "colab": {
          "base_uri": "https://localhost:8080/"
        },
        "id": "dX4JVU8E94C5",
        "outputId": "21423cd0-9a34-49e3-9f30-5b90b6f10520"
      },
      "execution_count": null,
      "outputs": [
        {
          "output_type": "stream",
          "name": "stdout",
          "text": [
            "ID                        0\n",
            "dri_score                 0\n",
            "psych_disturb             0\n",
            "cyto_score                0\n",
            "diabetes                  0\n",
            "hla_match_c_high          0\n",
            "hla_high_res_8            0\n",
            "tbi_status                0\n",
            "arrhythmia                0\n",
            "hla_low_res_6             0\n",
            "graft_type                0\n",
            "vent_hist                 0\n",
            "renal_issue               0\n",
            "pulm_severe               0\n",
            "prim_disease_hct          0\n",
            "hla_high_res_6            0\n",
            "cmv_status                0\n",
            "hla_high_res_10           0\n",
            "hla_match_dqb1_high       0\n",
            "tce_imm_match             0\n",
            "hla_nmdp_6                0\n",
            "hla_match_c_low           0\n",
            "rituximab                 0\n",
            "hla_match_drb1_low        0\n",
            "hla_match_dqb1_low        0\n",
            "prod_type                 0\n",
            "cyto_score_detail         0\n",
            "conditioning_intensity    0\n",
            "ethnicity                 0\n",
            "year_hct                  0\n",
            "obesity                   0\n",
            "mrd_hct                   0\n",
            "in_vivo_tcd               0\n",
            "tce_match                 0\n",
            "hla_match_a_high          0\n",
            "hepatic_severe            0\n",
            "donor_age                 0\n",
            "prior_tumor               0\n",
            "hla_match_b_low           0\n",
            "peptic_ulcer              0\n",
            "age_at_hct                0\n",
            "hla_match_a_low           0\n",
            "gvhd_proph                0\n",
            "rheum_issue               0\n",
            "sex_match                 0\n",
            "hla_match_b_high          0\n",
            "race_group                0\n",
            "comorbidity_score         0\n",
            "karnofsky_score           0\n",
            "hepatic_mild              0\n",
            "tce_div_match             0\n",
            "donor_related             0\n",
            "melphalan_dose            0\n",
            "hla_low_res_8             0\n",
            "cardiac                   0\n",
            "hla_match_drb1_high       0\n",
            "pulm_moderate             0\n",
            "hla_low_res_10            0\n",
            "efs                       0\n",
            "efs_time                  0\n",
            "dtype: int64\n"
          ]
        }
      ]
    },
    {
      "cell_type": "code",
      "source": [
        "# Initialize the encoder\n",
        "encoder = OneHotEncoder(sparse_output=False)\n",
        "\n",
        "# Fit and transform the data\n",
        "\n",
        "columns_to_encode = ['dri_score',\n",
        "    'psych_disturb',\n",
        "    'cyto_score',\n",
        "    'diabetes',\n",
        "    'arrhythmia',\n",
        "    'vent_hist',\n",
        "    'renal_issue',\n",
        "    'pulm_severe',\n",
        "    'cmv_status',\n",
        "    'tce_imm_match',\n",
        "    'rituximab',\n",
        "    'cyto_score_detail',\n",
        "    'conditioning_intensity',\n",
        "    'ethnicity',\n",
        "    'obesity',\n",
        "    'mrd_hct',\n",
        "    'in_vivo_tcd',\n",
        "    'tce_match',\n",
        "    'hepatic_severe',\n",
        "    'prior_tumor',\n",
        "    'peptic_ulcer',\n",
        "    'gvhd_proph',\n",
        "    'rheum_issue',\n",
        "    'sex_match',\n",
        "    'hepatic_mild',\n",
        "    'tce_div_match',\n",
        "    'donor_related',\n",
        "    'melphalan_dose',\n",
        "    'cardiac',\n",
        "    'pulm_moderate',\n",
        "    'tbi_status',\n",
        "    'graft_type',\n",
        "    'prim_disease_hct',\n",
        "    'prod_type',\n",
        "    'race_group']\n",
        "encoded_data = encoder.fit_transform(df[columns_to_encode])\n",
        "\n",
        "# Get feature names\n",
        "feature_names = encoder.get_feature_names_out(columns_to_encode)\n",
        "\n",
        "# Convert to DataFrame and concatenate\n",
        "encoded_df = pd.DataFrame(encoded_data, columns=feature_names)\n",
        "df = pd.concat([df, encoded_df], axis=1)\n",
        "\n",
        "\n",
        "df = df.drop(columns=columns_to_encode)\n",
        "\n"
      ],
      "metadata": {
        "id": "QjmFBpVvLP0H"
      },
      "execution_count": 28,
      "outputs": []
    },
    {
      "cell_type": "code",
      "source": [
        "# Get categorical columns\n",
        "categorical_columns = df.select_dtypes(include=['object', 'category']).columns\n",
        "\n",
        "# Print the list of categorical columns\n",
        "print(list(categorical_columns))"
      ],
      "metadata": {
        "colab": {
          "base_uri": "https://localhost:8080/"
        },
        "id": "m8CLnrhfMCi3",
        "outputId": "5d31a73d-16f8-4e0b-c378-ed3c19874afc"
      },
      "execution_count": 30,
      "outputs": [
        {
          "output_type": "stream",
          "name": "stdout",
          "text": [
            "['tbi_status', 'graft_type', 'prim_disease_hct', 'prod_type', 'race_group']\n"
          ]
        }
      ]
    }
  ]
}